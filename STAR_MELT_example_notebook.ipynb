{
 "cells": [
  {
   "cell_type": "markdown",
   "metadata": {},
   "source": [
    "![alt text](STAR_MELT_logo.png \"STAR_MELT\")"
   ]
  },
  {
   "cell_type": "markdown",
   "metadata": {},
   "source": [
    "# STAR-MELT Example Notebook"
   ]
  },
  {
   "cell_type": "markdown",
   "metadata": {
    "colab_type": "text",
    "id": "tiA5vZ_TBVPM"
   },
   "source": [
    "Welcome to the example notebook for STAR-MELT.\\\n",
    "This notebook will use the example FITS files to show you how to use STAR-MELT on your own data.\\\n",
    "Additional functions at the end of the notebook can be copied to where needed.\n",
    "\n",
    "### Notebook tips:\n",
    "* ***Shift + Enter on a code cell/block to run it and advance to the next cell.***\n",
    "* Can re-run blocks out of order as long as the variables are already there\n",
    "* To add text notes between blocks, click on the [number] left of a block to select the block (not the code within the block) and press 'b' to make a new cell below, then with the new cell highlighted press 'm' to switch it to markdown instead of code, type your notes then 'shift+enter' 'runs' it to generate the text\n"
   ]
  },
  {
   "cell_type": "code",
   "execution_count": null,
   "metadata": {},
   "outputs": [],
   "source": [
    "#Packages required by STAR-MELT, some are not used directly in this notebook, but called by the modules, check that they are all installed here\n",
    "import time\n",
    "from matplotlib import *\n",
    "from matplotlib.pyplot import *\n",
    "import numpy as np\n",
    "import pandas as pd\n",
    "import astropy\n",
    "from astropy.time import Time\n",
    "import astropy.units as u\n",
    "from astropy.coordinates import SkyCoord, EarthLocation\n",
    "from astropy.stats import sigma_clip\n",
    "from astroquery.simbad import Simbad\n",
    "from astropy.timeseries import LombScargle\n",
    "import numpy.ma as ma\n",
    "import os\n",
    "from PyAstronomy import pyasl\n",
    "from lmfit.models import GaussianModel, LinearModel\n",
    "from scipy.interpolate import interp1d\n",
    "from scipy.optimize import curve_fit\n",
    "from scipy.signal import savgol_filter\n",
    "from scipy.signal import find_peaks_cwt\n",
    "from scipy.signal import argrelextrema\n",
    "from ESO_fits_get_spectra import *\n",
    "from ESP_fits_get_spectra import *\n",
    "from utils_data import *\n",
    "from utils_spec import *\n",
    "from utils_physics import *\n",
    "import utils_shared_variables as USH\n",
    "from utils_saha_av import *\n",
    "from ipywidgets import interact, interactive, fixed, interact_manual\n",
    "import ipywidgets as widget\n",
    "from IPython.display import display,clear_output\n",
    "import qgrid"
   ]
  },
  {
   "cell_type": "markdown",
   "metadata": {},
   "source": [
    "#### If you change which %matplotlib magic command here you must restart the notebook"
   ]
  },
  {
   "cell_type": "code",
   "execution_count": null,
   "metadata": {},
   "outputs": [],
   "source": [
    "#for notebook/slides\n",
    "%matplotlib notebook \n",
    "#for lab\n",
    "#%matplotlib widget\n",
    "#for new window plots\n",
    "#%matplotlib qt\n",
    "%reload_ext autoreload\n",
    "%autoreload 2"
   ]
  },
  {
   "cell_type": "code",
   "execution_count": null,
   "metadata": {},
   "outputs": [],
   "source": [
    "rcParams.update({'figure.max_open_warning': 50})\n",
    "rcParams['figure.dpi'] = 100\n",
    "matplotlib.rc('font', family='serif',size=14)\n",
    "USH.fig_size_s=(8,6)\n",
    "USH.fig_size_l=(9,5)\n",
    "USH.fig_size_n=(9,3)"
   ]
  },
  {
   "cell_type": "code",
   "execution_count": null,
   "metadata": {
    "code_folding": []
   },
   "outputs": [],
   "source": [
    "# The line table used in the emission line matching will be automatically selected \n",
    "# depending on which instrument is selected. This block is just to view the line list.\n",
    "line_table=USH.line_table\n",
    "line_table=USH.line_table_prev_obs\n",
    "\n",
    "#uncomment below if you want to see the line table in qgrid\n",
    "#qgrid_widget1 = qgrid.show_grid(line_table, show_toolbar=False,grid_options={'forceFitColumns': False, 'defaultColumnWidth': 75})\n",
    "#display(qgrid_widget1)"
   ]
  },
  {
   "cell_type": "markdown",
   "metadata": {
    "colab_type": "text",
    "id": "w6lcbsb1wX-4"
   },
   "source": [
    "### Select star from available data\n",
    "\n",
    "* Data should be organised as /STAR/INSTRUMENT/spectrum.fits or STAR/spectrum.fits\n",
    "* Can run organise_fits_files(dir_of_files,output_dir) on dir_of_files containing .fits files that can be read by the read in scripts (example block near end of notebook)"
   ]
  },
  {
   "cell_type": "code",
   "execution_count": null,
   "metadata": {
    "code_folding": [
     12
    ],
    "scrolled": true
   },
   "outputs": [],
   "source": [
    "standards_dir='Standard_stars' \n",
    "data_dir='Example_data' #you can change this path to your local path of data\n",
    "\n",
    "star_list=os.listdir(data_dir)\n",
    "try:\n",
    "    star_list.remove('.DS_Store')#remove temp file on mac because python will think it's a star!\n",
    "except:\n",
    "    pass\n",
    "\n",
    "star_select = widget.Dropdown(\n",
    "    options=sorted(star_list),\n",
    "    #value='GQ_Lup',\n",
    "    description='Select star:',\n",
    ")\n",
    "display(star_select)\n"
   ]
  },
  {
   "cell_type": "markdown",
   "metadata": {
    "colab_type": "text",
    "id": "w6lcbsb1wX-4"
   },
   "source": [
    "### Find closest standard star by checking spectral types on SIMBAD, get radial velocity of standard star\n",
    "\n",
    "* Look up star in SIMBAD and get spectral type \n",
    "* Match to closest spectral type template star from available data in standards_dir\n",
    "* Retrieve radial velocity and Vsini of template star\n",
    "* If simbad_out=True, also return simbad query table"
   ]
  },
  {
   "cell_type": "code",
   "execution_count": null,
   "metadata": {
    "cell_style": "center"
   },
   "outputs": [],
   "source": [
    "target=star_select.value\n",
    "data_fits_files=get_files(os.path.join(data_dir,target),'.fits','.FTZ')\n",
    "standard_fits_files,mk,stype,st_rv,simbad=get_fits_files_simbad(target,standards_dir,simbad_out=True)"
   ]
  },
  {
   "cell_type": "markdown",
   "metadata": {},
   "source": [
    "### Read in data and see what data is available for target star"
   ]
  },
  {
   "cell_type": "code",
   "execution_count": null,
   "metadata": {
    "cell_style": "center"
   },
   "outputs": [],
   "source": [
    "data_dates_range1,instrument,w0=get_instrument_date_details(data_fits_files,qgrid=True)\n",
    "qgrid_widget1 = qgrid.show_grid(data_dates_range1, show_toolbar=False)\n",
    "display(qgrid_widget1)"
   ]
  },
  {
   "cell_type": "markdown",
   "metadata": {
    "colab_type": "text",
    "id": "lvk-OpePwlNJ"
   },
   "source": [
    "### Selecting the instrument instructions:\n",
    "* The qgrid above will display all data read in for the selected target\n",
    "* You can use the columns in qgrid to make selections or filter ranges\n",
    "* Use the button options below to decide how to make the selections\n",
    "* Select 'qgrid filtered' to use all data shown in the above gqrid after using the column buttons to filter, e.g by inst and/or wmin/wmax\n",
    "* Select 'qgrid selected' to use all data highlighted in the above gqrid (shift/ctrl/cmd + click to highlight)\n",
    "* Or select individual instrument to use all data from that instrument only\n"
   ]
  },
  {
   "cell_type": "code",
   "execution_count": null,
   "metadata": {
    "code_folding": [
     2
    ]
   },
   "outputs": [],
   "source": [
    "inst_options=['qgrid filtered','qgrid selected']\n",
    "inst_options.extend(unique(data_dates_range1.inst).tolist())\n",
    "inst_select = widget.RadioButtons(\n",
    "    options=inst_options,\n",
    "    description='Instrument selection:',\n",
    "    style = {'description_width': 'initial'}\n",
    ")\n",
    "display(inst_select)"
   ]
  },
  {
   "cell_type": "markdown",
   "metadata": {
    "colab_type": "text",
    "id": "j0F-vd5dxdtC"
   },
   "source": [
    "### Average data frame\n",
    "* If one instrument selected, this will auto run the average dataframe\n",
    "* If one instrument with >1 spectral arm selected, the arm must be specified when prompted\n",
    "* If >1 inst selected, refine wavelength coverage above so it's common between instruments, then specify this coverage when prompted\n"
   ]
  },
  {
   "cell_type": "code",
   "execution_count": null,
   "metadata": {
    "code_folding": []
   },
   "outputs": [],
   "source": [
    "instr_select='any' \n",
    "if inst_select.value=='qgrid filtered':\n",
    "    new_list=qgrid_widget1.get_changed_df()\n",
    "elif inst_select.value=='qgrid selected':\n",
    "    new_list=qgrid_widget1.get_selected_df()\n",
    "else:\n",
    "    instr_select=inst_select.value\n",
    "    new_list=data_dates_range1[data_dates_range1.inst==instr_select]\n",
    "    \n",
    "all_inst=True if len(unique(new_list.inst)) >1 else False\n",
    "\n",
    "data_dates_range,instrument,w0=get_instrument_date_details(new_list.file,instr_select,\n",
    "                                                           all_inst=all_inst,qgrid=False)#,start_date='2008',end_date='2012')\n",
    "#w0=np.arange(min(w0),max(w0),1)\n",
    "df_av=get_av_spec(data_dates_range,w0,norm=False,output=True,plot_av=True,savefig=False)#,label='utc_inst')\n",
    "df_av_norm=get_av_spec(data_dates_range,w0,norm=True,output=True,plot_av=True)#,label='utc_inst')\n",
    "\n",
    "USH.target=target\n",
    "USH.instrument=unique(new_list['inst'])"
   ]
  },
  {
   "cell_type": "markdown",
   "metadata": {
    "colab_type": "text",
    "id": "589Pf73lAtIT"
   },
   "source": [
    "#### *Only run the following block to specify a further wavelength exclusion, otherwise can be skipped*"
   ]
  },
  {
   "cell_type": "code",
   "execution_count": null,
   "metadata": {},
   "outputs": [],
   "source": [
    "w0,df_av,df_av_norm=wl_excluder(w0,df_av,df_av_norm,w0_cut=[[3000,3860],[6800,6970], [8150,8390], [9100,9250]])\n",
    "wl_plot(df_av_norm,plot_av=False)"
   ]
  },
  {
   "cell_type": "markdown",
   "metadata": {},
   "source": [
    "### Saved emission lines load in\n",
    "\n",
    "* This should be a list of lines identified with STAR-MELT for the star of interest"
   ]
  },
  {
   "cell_type": "code",
   "execution_count": null,
   "metadata": {
    "code_folding": [
     0
    ]
   },
   "outputs": [],
   "source": [
    "em_file_r='Line_Resources/EX_Lupi_FEROSHARPS_2sig_poly3_win2_april16_lines_revised.csv' #example provided for EX Lupi (JCW+2021)\n",
    "em_loaded = pd.read_csv(em_file_r,delimiter=',')#.astype('object')\n",
    "\n",
    "qgrid_widget_em = qgrid.show_grid(em_loaded, show_toolbar=False,grid_options={'forceFitColumns': False, 'defaultColumnWidth': 75})\n",
    "qgrid_widget_em"
   ]
  },
  {
   "cell_type": "markdown",
   "metadata": {},
   "source": [
    "#### If the loaded in list is refined in the qgrid, update em_loaded with below block"
   ]
  },
  {
   "cell_type": "code",
   "execution_count": null,
   "metadata": {},
   "outputs": [],
   "source": [
    "#em_loaded=qgrid_widget_em.get_selected_df()\n",
    "em_loaded=qgrid_widget_em.get_changed_df()"
   ]
  },
  {
   "cell_type": "markdown",
   "metadata": {},
   "source": [
    "#### Plot the loaded in list of lines with the average spectra"
   ]
  },
  {
   "cell_type": "code",
   "execution_count": null,
   "metadata": {},
   "outputs": [],
   "source": [
    "plot_em_lines(df_av_norm,em_loaded,plot_av=False,fs=USH.fig_size_n)"
   ]
  },
  {
   "cell_type": "markdown",
   "metadata": {
    "colab_type": "text",
    "id": "5CZgVl7Cxz9m"
   },
   "source": [
    "## Calculate the radial velocity and Vsini of the target star\n",
    "### Please note that RV and Vsini calculations are currently not working as intended for data that uses vacuum wavelengths."
   ]
  },
  {
   "cell_type": "markdown",
   "metadata": {
    "colab_type": "text",
    "id": "5CZgVl7Cxz9m"
   },
   "source": [
    "* *Get the radial velocity and vsini of the target star using template star and CCF*\n",
    "* Best not to use normalised average flux data frame, default is to use standard average flux\n",
    "* May need to change w_min and w_max\n",
    "* Recommended to use high resolution spectra for CCF with HARPS/FEROS templates"
   ]
  },
  {
   "cell_type": "code",
   "execution_count": null,
   "metadata": {},
   "outputs": [],
   "source": [
    "radvel=32 #you can set the values manually here and comment out the radvel,vsini= line\n",
    "vsini=200\n",
    "st_info,st_wave,st_flux,st_err=read_fits_files(standard_fits_files[0],verbose=True) \n",
    "radvel,vsini=get_rv_vsini(df_av,st_wave,st_flux,st_rv,date='med_flux',w_min=5000,w_max=5500)\n",
    "USH.radvel=radvel #do not comment these out, other functions need the values\n",
    "USH.vsini=vsini"
   ]
  },
  {
   "cell_type": "markdown",
   "metadata": {
    "colab_type": "text",
    "id": "yq2rZZ43AtId"
   },
   "source": [
    "## Continuum subtraction\n",
    "* *Get normalised average flux data frame and subtract continuum, plot on screen*\n",
    "* Use the poly order slider to adjust the degree of the polynomial for the SG filter\n",
    "* Use the wl_win slider to adjust the wavelength window of the SG filter\n",
    "* For data with more noise, use a lower order and/or larger wl_win\n",
    "* Flux and Wave sliders are just for the plot limits"
   ]
  },
  {
   "cell_type": "code",
   "execution_count": null,
   "metadata": {
    "code_folding": [
     13
    ],
    "slideshow": {
     "slide_type": "slide"
    }
   },
   "outputs": [],
   "source": [
    "def view_cont(poly=1, wl_win=1,plot_y=[],plot_x=[]):\n",
    "    global f_flat\n",
    "    f_flat=subtract_cont(df_av_norm,av='med',poly=poly,wl_win=wl_win,output=True,plot_x=plot_x,plot_y=plot_y)\n",
    "\n",
    "\n",
    "interact(view_cont, \n",
    "         poly=widget.IntSlider(min=1, max=10,step=1,value=1,layout={'width': '600px'},continuous_update=False), \n",
    "         wl_win=widget.FloatSlider(min=0.5, max=20, step=0.5,value=1,layout={'width': '600px'},continuous_update=False), \n",
    "         plot_y=widget.FloatRangeSlider(min=0,max=max(df_av_norm.med_flux),\n",
    "            step=1,value=[0,max(df_av_norm.med_flux)],\n",
    "            layout={'width': '600px'},description='Flux',continuous_update=False),\n",
    "         plot_x=widget.FloatRangeSlider(min=min(df_av_norm.wave),max=max(df_av_norm.wave),\n",
    "            step=10,value=[min(df_av_norm.wave),max(df_av_norm.wave)],\n",
    "            layout={'width': '800px'},description='Wave [Angstroms]',\n",
    "            style = {'description_width': 'initial'},continuous_update=False)\n",
    "        )\n"
   ]
  },
  {
   "cell_type": "markdown",
   "metadata": {
    "colab_type": "text",
    "id": "UKmqetxeyHPI"
   },
   "source": [
    "## Automatic emission line identification\n",
    "* *Find the emission lines*\n",
    "* Use the sigma slider to select the threshold at which to match the identified lines\n",
    "* Wave slider here does limit the output for which lines are matched, only between wave limits"
   ]
  },
  {
   "cell_type": "code",
   "execution_count": null,
   "metadata": {
    "code_folding": [
     13
    ],
    "slideshow": {
     "slide_type": "slide"
    }
   },
   "outputs": [],
   "source": [
    "def get_lines(sigma=3,xrange=[]):\n",
    "    global em_matches,em_match_common_Ek\n",
    "    em_matches,em_match_common_Ek=find_em_lines(df_av,f_flat,radvel,vsini=vsini,sigma=sigma,\n",
    "                                                av='med',atol=0.5,output=True,line_id=True,xrange=xrange)\n",
    "    print('number of emission lines matched:',len(em_matches)) \n",
    "    \n",
    "interact(get_lines, \n",
    "         sigma=widget.FloatSlider(min=0.5, max=15, step=0.5,value=3,layout={'width': '600px'},continuous_update=False), \n",
    "         xrange=widget.FloatRangeSlider(min=min(df_av_norm.wave),max=max(df_av_norm.wave),\n",
    "            step=5,value=[min(df_av_norm.wave),max(df_av_norm.wave)],\n",
    "            layout={'width': '800px'},description='Wave [Angstroms]',\n",
    "            style = {'description_width': 'initial'},continuous_update=False)\n",
    "        )   \n",
    "\n"
   ]
  },
  {
   "cell_type": "markdown",
   "metadata": {},
   "source": [
    "# The following sections are for fitting and analysis\n",
    "# There are sections for periodogram/velocity analsysis and for the Saha/Sobolev analysis"
   ]
  },
  {
   "cell_type": "markdown",
   "metadata": {},
   "source": [
    "### Select here whether to use the loaded in emission lines, or the emission lines identified within run, or the lines identfied after fitting from line_results"
   ]
  },
  {
   "cell_type": "code",
   "execution_count": null,
   "metadata": {},
   "outputs": [],
   "source": [
    "em_matches_selection=widget.RadioButtons(\n",
    "    options=['Loaded in list of lines', 'Lines identified here','Lines selected after fitting'],\n",
    "    value='Lines identified here',\n",
    "    layout={'width': 'max-content'}, \n",
    "    style = {'description_width': 'initial'},\n",
    "    description='Select em list:',\n",
    ")\n",
    "display(em_matches_selection)"
   ]
  },
  {
   "cell_type": "markdown",
   "metadata": {},
   "source": [
    "# Line selection and fitting\n",
    "* Either filter or select from the qgrid, and pick corresponded option in block below with the fitting options\n"
   ]
  },
  {
   "cell_type": "code",
   "execution_count": null,
   "metadata": {
    "scrolled": false
   },
   "outputs": [],
   "source": [
    "if em_matches_selection.value=='Loaded in list of lines':\n",
    "    df = em_loaded\n",
    "elif em_matches_selection.value=='Lines selected after fitting':\n",
    "    df=em_loaded[em_loaded.obs_wl_air.isin(line_results.obs_wl_air)]\n",
    "else:\n",
    "    df = em_matches\n",
    "    \n",
    "qgrid_widget = qgrid.show_grid(df, show_toolbar=False,grid_options={'forceFitColumns': False, 'defaultColumnWidth': 75})\n",
    "display(qgrid_widget)"
   ]
  },
  {
   "cell_type": "code",
   "execution_count": null,
   "metadata": {},
   "outputs": [],
   "source": [
    "#df.to_csv(target+'_3sig_1poly_5wl.csv',index=False) #this is how you can save the output of the lines, which can then be read back in as em_loaded earlier on\n"
   ]
  },
  {
   "cell_type": "markdown",
   "metadata": {},
   "source": [
    "### Line fitting options\n",
    "* Use the select dates widget to pick all observation dates you want for the periodogram, drag click or shift click\n",
    "* Options for number of Gaussians, 1, 2 or 3.\n",
    "* If neg=True, one positive, one negative Gauss fitted, if neg=True and ngauss=2, two positive, one negative Gauss fitted etc\n",
    "* May need to increase gof_min for >1 Gauss, defualt is gof_min=0.2\n",
    "* For periodogram analysis, do not use av_flux or med_flux\n",
    "* For Saha use only Fe or He, for Sobolov use only Fe (to be updated with more species)\n"
   ]
  },
  {
   "cell_type": "code",
   "execution_count": null,
   "metadata": {},
   "outputs": [],
   "source": [
    "line_select = widget.RadioButtons(options=['qgrid filtered','qgrid selected'],description='Line selection:',style = {'description_width': 'initial'})\n",
    "\n",
    "date_selector = widget.SelectMultiple(options=df_av.columns[1:-1],value=['med_flux'],description='Select dates:',)\n",
    "display(widget.HBox([line_select,date_selector]))\n",
    "\n",
    "vel_range=widget.FloatText(value='50',step=10,description='Velocity window',layout={'width': 'max-content'}, style = {'description_width': 'initial'})\n",
    "\n",
    "\n",
    "ngauss_sel=widget.IntSlider(value='1',min=1,max=3,description='# of positive Gauss:', style = {'description_width': 'initial'})\n",
    "neg_sel=widget.Checkbox(value=False,description='Include a negative Gauss?',layout={'width': 'max-content'}, style = {'description_width': 'initial'})\n",
    "vred_sel=widget.Checkbox(value=False,description='Include a Vred calc.?',layout={'width': 'max-content'}, style = {'description_width': 'initial'})\n",
    "gof_min_sel=widget.FloatSlider(min=0.1, max=1, step=0.1,value=0.2,description='GoF min:', style = {'description_width': 'initial'})\n",
    "reject_low_gof=widget.Checkbox(value=True,description='Use min GoF?',layout={'width': 'max-content'}, style = {'description_width': 'initial'})\n",
    "reject_line_close=widget.Checkbox(value=True,description='Use min std err?',layout={'width': 'max-content'}, style = {'description_width': 'initial'})\n",
    "\n",
    "set_g1_cen=widget.Checkbox(value=False,description='Set G1 centre limits?',layout={'width': 'max-content'}, style = {'description_width': 'initial'})\n",
    "set_g1_sig=widget.Checkbox(value=False,description='Set G1 sigma limits?',layout={'width': 'max-content'}, style = {'description_width': 'initial'})\n",
    "g1_cen_min=widget.FloatText(value='0',step=10,description='G1 centre min',layout={'width': 'max-content'}, style = {'description_width': 'initial'})\n",
    "g1_cen_max=widget.FloatText(value='20',step=10,description='max',layout={'width': 'max-content'}, style = {'description_width': 'initial'})\n",
    "g1_sig_min=widget.FloatText(value='0',step=10,description='G1 sigma min',layout={'width': 'max-content'}, style = {'description_width': 'initial'})\n",
    "g1_sig_max=widget.FloatText(value='50',step=10,description='max',layout={'width': 'max-content'}, style = {'description_width': 'initial'})\n",
    "\n",
    "set_g2_cen=widget.Checkbox(value=False,description='Set G2 centre limits?',layout={'width': 'max-content'}, style = {'description_width': 'initial'})\n",
    "set_g2_sig=widget.Checkbox(value=False,description='Set G2 sigma limits?',layout={'width': 'max-content'}, style = {'description_width': 'initial'})\n",
    "g2_cen_min=widget.FloatText(value='10',step=10,description='G2 centre min',layout={'width': 'max-content'}, style = {'description_width': 'initial'})\n",
    "g2_cen_max=widget.FloatText(value='50',step=10,description='max',layout={'width': 'max-content'}, style = {'description_width': 'initial'})\n",
    "g2_sig_min=widget.FloatText(value='0',step=10,description='G2 sigma min',layout={'width': 'max-content'}, style = {'description_width': 'initial'})\n",
    "g2_sig_max=widget.FloatText(value='100',step=10,description='max',layout={'width': 'max-content'}, style = {'description_width': 'initial'})\n",
    "\n",
    "set_g3_cen=widget.Checkbox(value=False,description='Set G3 centre limits?',layout={'width': 'max-content'}, style = {'description_width': 'initial'})\n",
    "set_g3_sig=widget.Checkbox(value=False,description='Set G3 sigma limits?',layout={'width': 'max-content'}, style = {'description_width': 'initial'})\n",
    "g3_cen_min=widget.FloatText(value='10',step=10,description='G3 centre min',layout={'width': 'max-content'}, style = {'description_width': 'initial'})\n",
    "g3_cen_max=widget.FloatText(value='50',step=10,description='max',layout={'width': 'max-content'}, style = {'description_width': 'initial'})\n",
    "g3_sig_min=widget.FloatText(value='0',step=10,description='G3 sigma min',layout={'width': 'max-content'}, style = {'description_width': 'initial'})\n",
    "g3_sig_max=widget.FloatText(value='100',step=10,description='max',layout={'width': 'max-content'}, style = {'description_width': 'initial'})\n",
    "\n",
    "set_g4_cen=widget.Checkbox(value=False,description='Set neg Gauss centre limits?',layout={'width': 'max-content'}, style = {'description_width': 'initial'})\n",
    "set_g4_sig=widget.Checkbox(value=False,description='Set neg Gauss sigma limits?',layout={'width': 'max-content'}, style = {'description_width': 'initial'})\n",
    "g4_cen_min=widget.FloatText(value='10',step=10,description='neg centre min',layout={'width': 'max-content'}, style = {'description_width': 'initial'})\n",
    "g4_cen_max=widget.FloatText(value='50',step=10,description='max',layout={'width': 'max-content'}, style = {'description_width': 'initial'})\n",
    "g4_sig_min=widget.FloatText(value='0',step=10,description='neg sigma min',layout={'width': 'max-content'}, style = {'description_width': 'initial'})\n",
    "g4_sig_max=widget.FloatText(value='100',step=10,description='max',layout={'width': 'max-content'}, style = {'description_width': 'initial'})\n",
    "\n",
    "savefig=widget.Checkbox(value=False,description='Save all output plots to file?',layout={'width': 'max-content'}, style = {'description_width': 'initial'})\n",
    "title=widget.Dropdown(options=['full','simple','none'],value='full',description='Plot title',layout={'width': 'max-content'}, style = {'description_width': 'initial'})\n",
    "df_sel=widget.Dropdown(options=['df_av','df_av_norm'],value='df_av',description='Use df_av or df_av_norm?',layout={'width': 'max-content'}, style = {'description_width': 'initial'})\n",
    "\n",
    "display(df_sel,vel_range)\n",
    "display(widget.TwoByTwoLayout(top_left=widget.HBox([reject_low_gof,reject_line_close]),top_right=gof_min_sel,bottom_left=ngauss_sel,bottom_right=widget.HBox([neg_sel,vred_sel])))\n",
    "display(widget.TwoByTwoLayout(bottom_left=widget.HBox([g1_cen_min,g1_cen_max]),bottom_right=widget.HBox([g1_sig_min,g1_sig_max]),top_left=set_g1_cen,top_right=set_g1_sig))\n",
    "display(widget.TwoByTwoLayout(bottom_left=widget.HBox([g2_cen_min,g2_cen_max]),bottom_right=widget.HBox([g2_sig_min,g2_sig_max]),top_left=set_g2_cen,top_right=set_g2_sig))\n",
    "display(widget.TwoByTwoLayout(bottom_left=widget.HBox([g3_cen_min,g3_cen_max]),bottom_right=widget.HBox([g3_sig_min,g3_sig_max]),top_left=set_g3_cen,top_right=set_g3_sig))\n",
    "display(widget.TwoByTwoLayout(bottom_left=widget.HBox([g4_cen_min,g4_cen_max]),bottom_right=widget.HBox([g4_sig_min,g4_sig_max]),top_left=set_g4_cen,top_right=set_g4_sig))\n",
    "display(widget.HBox([title,savefig]))\n",
    "    "
   ]
  },
  {
   "cell_type": "markdown",
   "metadata": {
    "colab_type": "text",
    "id": "RNlvasOU1c6X"
   },
   "source": [
    "* *The next block runs the fitting for the lines and options selected above*\n",
    "* *The option to output each plot on screen is given*\n"
   ]
  },
  {
   "cell_type": "markdown",
   "metadata": {},
   "source": [
    "## Fit the lines"
   ]
  },
  {
   "cell_type": "code",
   "execution_count": null,
   "metadata": {
    "code_folding": [],
    "scrolled": false
   },
   "outputs": [],
   "source": [
    "line_date_list=date_selector.value\n",
    "if line_select.value=='qgrid filtered':\n",
    "    em_lines=qgrid_widget.get_changed_df()\n",
    "elif line_select.value=='qgrid selected':\n",
    "    em_lines=qgrid_widget.get_selected_df()\n",
    "print('number of lines attemping to fit %s:'%(len(em_lines)))\n",
    "print('number of dates attempting to fit %s'%(len(line_date_list)))\n",
    "\n",
    "#settings for Vred H balmer: g1 cen -75,50, neg cen 150,250, neg sig 0,250\n",
    "#settings for Vred Ca II k: g1 cen -20,20, g2 cen -30,20 neg cen 150,250, neg sig 0,250\n",
    "\n",
    "g1_cen=[g1_cen_min.value,g1_cen_max.value] if set_g1_cen.value==True else None #0,150 for CaK + H\n",
    "g2_cen=[g2_cen_min.value,g2_cen_max.value] if set_g2_cen.value==True else None #-20,100 for CaK\n",
    "g3_cen=[g3_cen_min.value,g3_cen_max.value] if set_g3_cen.value==True else None #-20,100 for CaK\n",
    "neg_cen=[g4_cen_min.value,g4_cen_max.value] if set_g4_cen.value==True else None #0,50 for He, 200,50 for CaK + H\n",
    "g1_sig=[g1_sig_min.value,g1_sig_max.value] if set_g1_sig.value==True else None #0,50 for He, 200,50 for CaK + H\n",
    "g2_sig=[g2_sig_min.value,g2_sig_max.value] if set_g2_sig.value==True else None #0,50 for He, 200,50 for CaK + H\n",
    "g3_sig=[g3_sig_min.value,g3_sig_max.value] if set_g3_sig.value==True else None #0,50 for He, 200,50 for CaK + H\n",
    "neg_sig=[g4_sig_min.value,g4_sig_max.value] if set_g4_sig.value==True else None #0,50 for He, 200,50 for CaK + H\n",
    "\n",
    "df_fit=df_av if df_sel.value=='df_av' else df_av_norm\n",
    "    \n",
    "em_line_date_results,em_line_date_results_common_Ek=get_line_results(em_lines,df_fit,line_date_list,target,radvel=radvel,\n",
    "                                                                     w_range=vel_range.value,ngauss=ngauss_sel.value,output=show_output('individual em lines plots?'),\n",
    "                                                                     g1_cen=g1_cen,g2_cen=g2_cen,g3_cen=g3_cen,neg_cen=neg_cen,g1_sig=g1_sig,g2_sig=g2_sig,g3_sig=g3_sig,neg_sig=neg_sig,\n",
    "                                                                     neg=neg_sel.value,gof_min=gof_min_sel.value,title=title.value,vred=vred_sel.value,plot_comps=True,\n",
    "                                                                     savefig=savefig.value,reject_low_gof=reject_low_gof.value,reject_line_close=reject_line_close.value)\n"
   ]
  },
  {
   "cell_type": "code",
   "execution_count": null,
   "metadata": {},
   "outputs": [],
   "source": [
    "#em_line_date_results.to_csv(target+'_3sig_1poly_5wl_line_fits.csv',index=False) #this will save the fit results to file"
   ]
  },
  {
   "cell_type": "markdown",
   "metadata": {},
   "source": [
    "# Periodogram/Variability analysis"
   ]
  },
  {
   "cell_type": "markdown",
   "metadata": {},
   "source": [
    "## Identified line properties & fit parameters"
   ]
  },
  {
   "cell_type": "code",
   "execution_count": null,
   "metadata": {
    "scrolled": true
   },
   "outputs": [],
   "source": [
    "qgrid_widget3 = qgrid.show_grid(em_line_date_results, show_toolbar=False,grid_options={'forceFitColumns': False, 'defaultColumnWidth': 75})\n",
    "qgrid_widget3"
   ]
  },
  {
   "cell_type": "markdown",
   "metadata": {},
   "source": [
    "* If your data includes any observations from FEROS, an updated barycentric correction can be applied by running the block below, otherwise skip this block"
   ]
  },
  {
   "cell_type": "code",
   "execution_count": null,
   "metadata": {},
   "outputs": [],
   "source": [
    "em_line_date_results=apply_bary_cor_FEROS(data_dates_range,simbad,em_line_date_results)\n",
    "qgrid_widget3 = qgrid.show_grid(em_line_date_results, show_toolbar=False,grid_options={'forceFitColumns': False, 'defaultColumnWidth': 75})\n",
    "qgrid_widget3"
   ]
  },
  {
   "cell_type": "markdown",
   "metadata": {},
   "source": [
    "## Select options for phase plot and periodogram for a given fitted line"
   ]
  },
  {
   "cell_type": "code",
   "execution_count": null,
   "metadata": {
    "scrolled": true
   },
   "outputs": [],
   "source": [
    "line_selector = widget.Select(options=unique(em_line_date_results.obs_wl_air),description='Select line:',)\n",
    "period_sel=widget.FloatText(value='7',step=0.5,description='Period to wrap:',layout={'width': 'max-content'}, style = {'description_width': 'initial'})\n",
    "\n",
    "mjd0_sel=widget.Dropdown(options=unique(em_line_date_results.mjd),description='Sel mjd0:',layout={'width': 'max-content'}, style = {'description_width': 'initial'})\n",
    "mjmin_sel=widget.Dropdown(options=unique(em_line_date_results.mjd),description='Sel min mjd:',layout={'width': 'max-content'}, style = {'description_width': 'initial'})\n",
    "mjmax_sel=widget.Dropdown(options=unique(em_line_date_results.mjd),value=max(unique(em_line_date_results.mjd)),description='Sel max mjd:',layout={'width': 'max-content'}, style = {'description_width': 'initial'})\n",
    "\n",
    "gofmin_sel=widget.FloatText(value='0.2',step=0.05,description='Min GoF:',layout={'width': 'max-content'}, style = {'description_width': 'initial'})\n",
    "errmin_sel=widget.FloatText(value='5',step=0.5,description='Min Std_err:',layout={'width': 'max-content'}, style = {'description_width': 'initial'})\n",
    "\n",
    "filmin_sel=widget.FloatText(value='-20',step=1,description='Min Vel.:',layout={'width': 'max-content'}, style = {'description_width': 'initial'})\n",
    "filmax_sel=widget.FloatText(value='20',step=1,description='Max Vel.:',layout={'width': 'max-content'}, style = {'description_width': 'initial'})\n",
    "\n",
    "maxper_sel=widget.FloatText(value='20',step=1,description='Max Period.:',layout={'width': 'max-content'}, style = {'description_width': 'initial'})\n",
    "minper_sel=widget.FloatText(value='1',step=1,description='Min Period.:',layout={'width': 'max-content'}, style = {'description_width': 'initial'})\n",
    "\n",
    "\n",
    "display(widget.HBox([line_selector,period_sel]))\n",
    "display(widget.HBox([mjd0_sel,mjmin_sel,mjmax_sel]))\n",
    "display(widget.HBox([gofmin_sel,errmin_sel]))\n",
    "display(widget.HBox([filmin_sel,filmax_sel]))\n",
    "display(widget.HBox([minper_sel,maxper_sel]))\n"
   ]
  },
  {
   "cell_type": "markdown",
   "metadata": {},
   "source": [
    "#### Plot the phase and periodogram for given selections"
   ]
  },
  {
   "cell_type": "code",
   "execution_count": null,
   "metadata": {},
   "outputs": [],
   "source": [
    "phase_period(em_line_date_results,linewav=line_selector.value,mjd0=mjd0_sel.value,period=period_sel.value,\n",
    "             gofmin=gofmin_sel.value,filmin=filmin_sel.value,filmax=filmax_sel.value,maxper=maxper_sel.value,\n",
    "             minper=minper_sel.value,errmin=errmin_sel.value,mjmin=mjmin_sel.value,mjmax=mjmax_sel.value)"
   ]
  },
  {
   "cell_type": "markdown",
   "metadata": {},
   "source": [
    "# Saha & Sobolev analysis\n",
    "* Run / re-run the line fitting for Fe or He lines for Saha, Fe lines for Sobolev (more species to be included)\n",
    "* Best to use med_flux or av_flux for line fittings to work out ratios with higher s/n\n"
   ]
  },
  {
   "cell_type": "markdown",
   "metadata": {},
   "source": [
    "## Identified line properties & fit parameters"
   ]
  },
  {
   "cell_type": "code",
   "execution_count": null,
   "metadata": {},
   "outputs": [],
   "source": [
    "#em_line_date_results.drop_duplicates(subset='w0',inplace=True)\n",
    "qgrid_widget_ss2 = qgrid.show_grid(em_line_date_results, show_toolbar=False,grid_options={'forceFitColumns': False, 'defaultColumnWidth': 75})\n",
    "qgrid_widget_ss2"
   ]
  },
  {
   "cell_type": "markdown",
   "metadata": {},
   "source": [
    "# Saha"
   ]
  },
  {
   "cell_type": "markdown",
   "metadata": {},
   "source": [
    "## Highlight the lines from the above qgrid to send to the Saha function\n",
    "* Must be Fe or He for Saha (more to be added)\n"
   ]
  },
  {
   "cell_type": "code",
   "execution_count": null,
   "metadata": {},
   "outputs": [],
   "source": [
    "line_results=qgrid_widget_ss2.get_selected_df()\n",
    "line_results"
   ]
  },
  {
   "cell_type": "code",
   "execution_count": null,
   "metadata": {},
   "outputs": [],
   "source": [
    "saha_av(line_results,N_range=[5,22],T_range=[1000,2e4]) #max T is ~6.9e4"
   ]
  },
  {
   "cell_type": "markdown",
   "metadata": {},
   "source": [
    "# Sobolev\n",
    "* Only Fe lines should be fitted, more to be added\n",
    "* Sobolev LGV approx requires lines from same upper energy level"
   ]
  },
  {
   "cell_type": "markdown",
   "metadata": {},
   "source": [
    "## The qgrid below shows the lines from the same upper level, note that only one date/average should be shown in mjd"
   ]
  },
  {
   "cell_type": "code",
   "execution_count": null,
   "metadata": {},
   "outputs": [],
   "source": [
    "sob_em_line_date_results_common_Ek=em_line_date_results_common_Ek[em_line_date_results_common_Ek.element=='Fe']\n",
    "qgrid_widget_sob = qgrid.show_grid(sob_em_line_date_results_common_Ek, show_toolbar=False,grid_options={'forceFitColumns': False, 'defaultColumnWidth': 75})\n",
    "qgrid_widget_sob"
   ]
  },
  {
   "cell_type": "code",
   "execution_count": null,
   "metadata": {},
   "outputs": [],
   "source": [
    "line_results=qgrid_widget_sob.get_changed_df()\n",
    "#line_results=qgrid_widget_sob.get_selected_df()"
   ]
  },
  {
   "cell_type": "markdown",
   "metadata": {
    "colab_type": "text",
    "id": "_wmVbbHq166c"
   },
   "source": [
    "* *Run the sobolev function for the applicable lines*"
   ]
  },
  {
   "cell_type": "code",
   "execution_count": null,
   "metadata": {
    "code_folding": []
   },
   "outputs": [],
   "source": [
    "#use qgruid to update above df by either Fe I or Fe II, still need U(T) for other elements\n",
    "sobolev_by_element(line_results,target,N_range=[6,22],T_range=[4e3,4e4],output=True,savefig=False)\n",
    "    "
   ]
  },
  {
   "cell_type": "markdown",
   "metadata": {
    "hide_input": true
   },
   "source": [
    "# Extra functions from STAR MELT\n",
    "* can copy and paste these blocks to use earlier on if needed, e.g. fitting for individual lines"
   ]
  },
  {
   "cell_type": "markdown",
   "metadata": {},
   "source": [
    "### Organise fits files by target name\n",
    "* This function will also check whether your fits files are compatible with the STAR-MELT read in scripts"
   ]
  },
  {
   "cell_type": "code",
   "execution_count": null,
   "metadata": {
    "hide_input": false,
    "scrolled": true
   },
   "outputs": [],
   "source": [
    "#This function will organise a directory of fits files into star/instr/obs.fits\n",
    "datadir2='/Users/Documents/fits'\n",
    "outputdir='/Users/Documents/HST_data'\n",
    "organise_fits_files(datadir2,outputdir)"
   ]
  },
  {
   "cell_type": "markdown",
   "metadata": {},
   "source": [
    "### View/fit individual lines from the loaded in list of lines and the df_av dataframe"
   ]
  },
  {
   "cell_type": "code",
   "execution_count": null,
   "metadata": {
    "cell_style": "split",
    "code_folding": [
     1
    ],
    "scrolled": true,
    "slideshow": {
     "slide_type": "slide"
    }
   },
   "outputs": [],
   "source": [
    "line_select1 = widget.Dropdown(\n",
    "    options=em_loaded.rv_wl,\n",
    "    description='Select line:',\n",
    ")\n",
    "display(line_select1)"
   ]
  },
  {
   "cell_type": "code",
   "execution_count": null,
   "metadata": {
    "cell_style": "center"
   },
   "outputs": [],
   "source": [
    "line=line_select1.value\n",
    "vel_range=450\n",
    "w_range=4\n",
    "df_av_line_vel=get_line_spec(df_av,line,vel_range,vel_offset=0,vel=True)\n",
    "df_av_line=get_line_spec(df_av_norm,line,w_range,vel_offset=0,vel=False)\n",
    "vel_plot(df_av_line_vel,line=line,plot_av=False,plot_sd=False,fs=USH.fig_size_s)\n",
    "#wl_plot(df_av_line,plot_av=True,fs=USH.fig_size_s)"
   ]
  },
  {
   "cell_type": "code",
   "execution_count": null,
   "metadata": {},
   "outputs": [],
   "source": [
    "date_selector1 = widget.SelectMultiple(\n",
    "    options=df_av_line_vel.columns[1:-1],\n",
    "    value=['med_flux'],\n",
    "    description='Select dates:',\n",
    ")\n",
    "display(date_selector1)"
   ]
  },
  {
   "cell_type": "code",
   "execution_count": null,
   "metadata": {},
   "outputs": [],
   "source": [
    "line_date_list=date_selector1.value\n",
    "g1_cen=None#[0,30]\n",
    "g2_cen=None#[200,100]\n",
    "neg_cen=None#[0,50]\n",
    "g1_sig=None\n",
    "g2_sig=None\n",
    "neg_sig=None#[100,200]\n",
    "out,x,y,line_info=gauss_stats(df_av_line_vel,line_date_list[0],ngauss=2,neg=False,vred=False,\n",
    "                              g1_cen=g1_cen,g2_cen=g2_cen,neg_cen=neg_cen,g1_sig=g1_sig,g2_sig=g2_sig,neg_sig=neg_sig,\n",
    "                              output=True,printout=False,subplot=False,title=None)"
   ]
  },
  {
   "cell_type": "code",
   "execution_count": null,
   "metadata": {},
   "outputs": [],
   "source": []
  }
 ],
 "metadata": {
  "kernelspec": {
   "display_name": "python_env",
   "language": "python",
   "name": "python_env"
  },
  "language_info": {
   "codemirror_mode": {
    "name": "ipython",
    "version": 3
   },
   "file_extension": ".py",
   "mimetype": "text/x-python",
   "name": "python",
   "nbconvert_exporter": "python",
   "pygments_lexer": "ipython3",
   "version": "3.7.3"
  },
  "varInspector": {
   "cols": {
    "lenName": 16,
    "lenType": 16,
    "lenVar": 40
   },
   "kernels_config": {
    "python": {
     "delete_cmd_postfix": "",
     "delete_cmd_prefix": "del ",
     "library": "var_list.py",
     "varRefreshCmd": "print(var_dic_list())"
    },
    "r": {
     "delete_cmd_postfix": ") ",
     "delete_cmd_prefix": "rm(",
     "library": "var_list.r",
     "varRefreshCmd": "cat(var_dic_list()) "
    }
   },
   "oldHeight": 350,
   "position": {
    "height": "372px",
    "left": "1010px",
    "right": "20px",
    "top": "120px",
    "width": "350px"
   },
   "types_to_exclude": [
    "module",
    "function",
    "builtin_function_or_method",
    "instance",
    "_Feature"
   ],
   "varInspector_section_display": "block",
   "window_display": false
  }
 },
 "nbformat": 4,
 "nbformat_minor": 4
}
